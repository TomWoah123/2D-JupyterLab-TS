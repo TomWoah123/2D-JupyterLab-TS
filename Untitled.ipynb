{
 "cells": [
  {
   "cell_type": "code",
   "execution_count": 1,
   "id": "67cebae8-719c-4966-8414-f7fc00b7812a",
   "metadata": {},
   "outputs": [
    {
     "name": "stdout",
     "output_type": "stream",
     "text": [
      "Test1\n"
     ]
    }
   ],
   "source": [
    "print(\"Test1\")"
   ]
  },
  {
   "cell_type": "code",
   "execution_count": 2,
   "id": "cc997243-5ebd-45b3-9e31-d1c2f08dbbd9",
   "metadata": {},
   "outputs": [
    {
     "name": "stdout",
     "output_type": "stream",
     "text": [
      "Test2\n"
     ]
    }
   ],
   "source": [
    "print(\"Test2\")"
   ]
  },
  {
   "cell_type": "code",
   "execution_count": 3,
   "id": "97b69d16-de9e-4481-a2e3-baa6de56d909",
   "metadata": {},
   "outputs": [
    {
     "name": "stdout",
     "output_type": "stream",
     "text": [
      "Hello World!3\n"
     ]
    }
   ],
   "source": [
    "print(\"Hello World!3\")"
   ]
  },
  {
   "cell_type": "code",
   "execution_count": 4,
   "id": "cc962417-d22e-4a08-84c0-1acf8614edfe",
   "metadata": {
    "tags": []
   },
   "outputs": [
    {
     "name": "stdout",
     "output_type": "stream",
     "text": [
      "Test4\n"
     ]
    }
   ],
   "source": [
    "print(\"Test4\")"
   ]
  }
 ],
 "metadata": {
  "kernelspec": {
   "display_name": "Python [conda env:root] *",
   "language": "python",
   "name": "conda-root-py"
  },
  "language_info": {
   "codemirror_mode": {
    "name": "ipython",
    "version": 3
   },
   "file_extension": ".py",
   "mimetype": "text/x-python",
   "name": "python",
   "nbconvert_exporter": "python",
   "pygments_lexer": "ipython3",
   "version": "3.9.13"
  }
 },
 "nbformat": 4,
 "nbformat_minor": 5
}
