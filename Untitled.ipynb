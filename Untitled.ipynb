{
 "cells": [
  {
   "cell_type": "code",
   "execution_count": 126,
   "id": "46869e7f-0546-45e6-a217-38914576c9ea",
   "metadata": {
    "tags": []
   },
   "outputs": [],
   "source": [
    "x = 1 # 1"
   ]
  },
  {
   "cell_type": "code",
   "execution_count": 132,
   "id": "445d04e8-0c74-43ca-940e-1644133f2aaf",
   "metadata": {},
   "outputs": [
    {
     "name": "stdout",
     "output_type": "stream",
     "text": [
      "2\n"
     ]
    }
   ],
   "source": [
    "print(x) # 2"
   ]
  },
  {
   "cell_type": "code",
   "execution_count": 130,
   "id": "8b8e667f-e34d-44c2-b6d9-428f04937c34",
   "metadata": {
    "tags": []
   },
   "outputs": [],
   "source": [
    "x = 2 # 3"
   ]
  }
 ],
 "metadata": {
  "kernelspec": {
   "display_name": "Python 3 (ipykernel)",
   "language": "python",
   "name": "python3"
  },
  "language_info": {
   "codemirror_mode": {
    "name": "ipython",
    "version": 3
   },
   "file_extension": ".py",
   "mimetype": "text/x-python",
   "name": "python",
   "nbconvert_exporter": "python",
   "pygments_lexer": "ipython3",
   "version": "3.10.10"
  }
 },
 "nbformat": 4,
 "nbformat_minor": 5
}
