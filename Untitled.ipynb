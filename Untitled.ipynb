{
 "cells": [
  {
   "cell_type": "code",
   "execution_count": 1,
<<<<<<< HEAD
   "id": "67cebae8-719c-4966-8414-f7fc00b7812a",
   "metadata": {},
   "outputs": [
    {
     "name": "stdout",
     "output_type": "stream",
     "text": [
      "Test1\n"
     ]
    }
   ],
=======
   "id": "736fce45-87b9-4150-b4cb-83b5a20ed8fa",
   "metadata": {
    "tags": []
   },
   "outputs": [],
>>>>>>> master
   "source": [
    "print(\"Test1\")"
   ]
  },
  {
   "cell_type": "code",
   "execution_count": 2,
<<<<<<< HEAD
   "id": "cc997243-5ebd-45b3-9e31-d1c2f08dbbd9",
   "metadata": {},
=======
   "id": "37946221-7f0b-4e87-b411-97cfb01ec6c0",
   "metadata": {
    "tags": []
   },
>>>>>>> master
   "outputs": [
    {
     "name": "stdout",
     "output_type": "stream",
     "text": [
<<<<<<< HEAD
      "Test2\n"
=======
      "0\n"
>>>>>>> master
     ]
    }
   ],
   "source": [
<<<<<<< HEAD
    "print(\"Test2\")"
=======
    "print(x)"
>>>>>>> master
   ]
  },
  {
   "cell_type": "code",
<<<<<<< HEAD
   "execution_count": 3,
   "id": "97b69d16-de9e-4481-a2e3-baa6de56d909",
   "metadata": {},
   "outputs": [
    {
     "name": "stdout",
     "output_type": "stream",
     "text": [
      "Hello World!3\n"
     ]
    }
   ],
   "source": [
    "print(\"Hello World!3\")"
=======
   "execution_count": null,
   "id": "e7df0b2a-1403-4eeb-b510-899acb1743e1",
   "metadata": {},
   "outputs": [],
   "source": [
    "print(x)"
>>>>>>> master
   ]
  },
  {
   "cell_type": "code",
<<<<<<< HEAD
   "execution_count": 4,
   "id": "cc962417-d22e-4a08-84c0-1acf8614edfe",
   "metadata": {
    "tags": []
   },
   "outputs": [
    {
     "name": "stdout",
     "output_type": "stream",
     "text": [
      "Test4\n"
     ]
    }
   ],
   "source": [
    "print(\"Test4\")"
=======
   "execution_count": 39,
   "id": "add179a6-8947-42e5-b5ce-facc5fe5f0b3",
   "metadata": {
    "tags": []
   },
   "outputs": [],
   "source": [
    "x = 1"
   ]
  },
  {
   "cell_type": "code",
   "execution_count": 21,
   "id": "e69341f8-718b-4cff-892b-a35c0e3353a5",
   "metadata": {
    "tags": []
   },
   "outputs": [],
   "source": [
    "x = 0"
   ]
  },
  {
   "cell_type": "code",
   "execution_count": 3,
   "id": "322d991c-97bf-4bb0-8836-38cefb5643da",
   "metadata": {
    "tags": []
   },
   "outputs": [],
   "source": [
    "x = 1"
>>>>>>> master
   ]
  }
 ],
 "metadata": {
  "kernelspec": {
   "display_name": "Python [conda env:root] *",
   "language": "python",
   "name": "conda-root-py"
  },
  "language_info": {
   "codemirror_mode": {
    "name": "ipython",
    "version": 3
   },
   "file_extension": ".py",
   "mimetype": "text/x-python",
   "name": "python",
   "nbconvert_exporter": "python",
   "pygments_lexer": "ipython3",
<<<<<<< HEAD
   "version": "3.9.13"
=======
   "version": "3.10.10"
>>>>>>> master
  }
 },
 "nbformat": 4,
 "nbformat_minor": 5
}
